{
 "cells": [
  {
   "cell_type": "code",
   "execution_count": null,
   "metadata": {},
   "outputs": [],
   "source": [
    "text = \"Hello! My name is Mercedes Crespo, and many of the lovely internet peeps know me as YemaYema. I am originally from Guayaquil, Ecuador but currently live in Marietta, GA, USA. I graduated from the Savannah College of Art and Design in 2005 and since have begin my freelance career. I’ve had the opportunity to work with wonderful people as well as collaborate. I’m very self-motivated, fast problem solver and enjoy working in a team or alone.\""
   ]
  }
 ],
 "metadata": {
  "language_info": {
   "name": "python"
  },
  "orig_nbformat": 4
 },
 "nbformat": 4,
 "nbformat_minor": 2
}
